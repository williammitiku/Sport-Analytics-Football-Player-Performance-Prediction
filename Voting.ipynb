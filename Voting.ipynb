{
 "cells": [
  {
   "cell_type": "code",
   "execution_count": 1,
   "metadata": {},
   "outputs": [],
   "source": [
    "import numpy as np\n",
    "from sklearn import metrics\n",
    "from sklearn.model_selection import train_test_split\n",
    "from sklearn.metrics import confusion_matrix, roc_auc_score, accuracy_score, precision_score, recall_score\n",
    "import pandas as pd"
   ]
  },
  {
   "cell_type": "code",
   "execution_count": 38,
   "metadata": {},
   "outputs": [],
   "source": [
    "import pandas as pd\n",
    "import numpy as np\n",
    "import matplotlib.pylab as plt\n",
    "import seaborn as sns\n",
    "from sklearn import datasets,metrics\n",
    "from sklearn.model_selection import train_test_split\n",
    "from sklearn.preprocessing import StandardScaler\n",
    "from imblearn.over_sampling import SMOTE\n",
    "import keras\n",
    "import pandas as pd\n",
    "import matplotlib.pyplot as plt\n",
    "from keras.utils import to_categorical\n",
    "from sklearn.metrics import accuracy_score\n",
    "from sklearn.metrics import classification_report\n",
    "from sklearn.ensemble import RandomForestClassifier\n",
    "from sklearn.linear_model import LogisticRegression\n",
    "from sklearn.model_selection import train_test_split\n",
    "from keras.utils import to_categorical\n",
    "import matplotlib.pyplot as plt\n",
    "from sklearn.metrics import confusion_matrix\n",
    "from sklearn import metrics\n",
    "import numpy as np\n",
    "import itertools\n",
    "from sklearn.model_selection import RepeatedStratifiedKFold\n",
    "from sklearn.model_selection import cross_val_score\n",
    "# evaluate random forest algorithm for classification\n",
    "from numpy import mean\n",
    "from numpy import std\n",
    "from sklearn.model_selection import RandomizedSearchCV\n",
    "from pprint import pprint"
   ]
  },
  {
   "cell_type": "code",
   "execution_count": 39,
   "metadata": {},
   "outputs": [],
   "source": [
    "from sklearn.linear_model import  LogisticRegression\n",
    "log=LogisticRegression(C=0.0018329807108324356, penalty='none', solver='sag')\n",
    "from sklearn import tree\n",
    "dec_tree = tree.DecisionTreeClassifier(criterion='entropy', max_depth=12)\n",
    "from sklearn.svm import SVC\n",
    "svmmodel_w2v= SVC(C=100, gamma=1)\n",
    "from sklearn.ensemble import RandomForestClassifier\n",
    "Random=RandomForestClassifier(n_estimators=141, n_jobs=4,max_depth=161)"
   ]
  },
  {
   "cell_type": "code",
   "execution_count": 40,
   "metadata": {},
   "outputs": [],
   "source": [
    "cancer=pd.read_csv('DomainCorrect.csv')"
   ]
  },
  {
   "cell_type": "code",
   "execution_count": 41,
   "metadata": {},
   "outputs": [
    {
     "data": {
      "text/html": [
       "<div>\n",
       "<style scoped>\n",
       "    .dataframe tbody tr th:only-of-type {\n",
       "        vertical-align: middle;\n",
       "    }\n",
       "\n",
       "    .dataframe tbody tr th {\n",
       "        vertical-align: top;\n",
       "    }\n",
       "\n",
       "    .dataframe thead th {\n",
       "        text-align: right;\n",
       "    }\n",
       "</style>\n",
       "<table border=\"1\" class=\"dataframe\">\n",
       "  <thead>\n",
       "    <tr style=\"text-align: right;\">\n",
       "      <th></th>\n",
       "      <th>App</th>\n",
       "      <th>Mins</th>\n",
       "      <th>SpG</th>\n",
       "      <th>KeyP</th>\n",
       "      <th>Rating</th>\n",
       "      <th>Overall rating</th>\n",
       "      <th>BP</th>\n",
       "      <th>CROSSING</th>\n",
       "      <th>FINISHING</th>\n",
       "      <th>ACCELERATION</th>\n",
       "      <th>SPRINT SPEED</th>\n",
       "      <th>REACTIONS</th>\n",
       "      <th>POSITIONING</th>\n",
       "      <th>CLASS</th>\n",
       "    </tr>\n",
       "  </thead>\n",
       "  <tbody>\n",
       "    <tr>\n",
       "      <th>0</th>\n",
       "      <td>0.745763</td>\n",
       "      <td>0.716806</td>\n",
       "      <td>0.527027</td>\n",
       "      <td>0.404762</td>\n",
       "      <td>0.540541</td>\n",
       "      <td>0.809524</td>\n",
       "      <td>0.000000</td>\n",
       "      <td>0.735294</td>\n",
       "      <td>0.916667</td>\n",
       "      <td>0.833333</td>\n",
       "      <td>0.791045</td>\n",
       "      <td>0.921569</td>\n",
       "      <td>0.915254</td>\n",
       "      <td>0</td>\n",
       "    </tr>\n",
       "    <tr>\n",
       "      <th>1</th>\n",
       "      <td>0.457627</td>\n",
       "      <td>0.479418</td>\n",
       "      <td>0.527027</td>\n",
       "      <td>0.428571</td>\n",
       "      <td>0.530405</td>\n",
       "      <td>0.761905</td>\n",
       "      <td>0.333333</td>\n",
       "      <td>0.838235</td>\n",
       "      <td>0.888889</td>\n",
       "      <td>0.750000</td>\n",
       "      <td>0.716418</td>\n",
       "      <td>0.803922</td>\n",
       "      <td>0.881356</td>\n",
       "      <td>0</td>\n",
       "    </tr>\n",
       "    <tr>\n",
       "      <th>2</th>\n",
       "      <td>0.508475</td>\n",
       "      <td>0.516249</td>\n",
       "      <td>0.378378</td>\n",
       "      <td>0.690476</td>\n",
       "      <td>0.527027</td>\n",
       "      <td>0.809524</td>\n",
       "      <td>0.333333</td>\n",
       "      <td>0.838235</td>\n",
       "      <td>0.805556</td>\n",
       "      <td>0.680556</td>\n",
       "      <td>0.641791</td>\n",
       "      <td>0.843137</td>\n",
       "      <td>0.898305</td>\n",
       "      <td>1</td>\n",
       "    </tr>\n",
       "    <tr>\n",
       "      <th>3</th>\n",
       "      <td>0.830508</td>\n",
       "      <td>0.796657</td>\n",
       "      <td>0.567568</td>\n",
       "      <td>0.476190</td>\n",
       "      <td>0.527027</td>\n",
       "      <td>0.809524</td>\n",
       "      <td>0.000000</td>\n",
       "      <td>0.764706</td>\n",
       "      <td>0.916667</td>\n",
       "      <td>0.777778</td>\n",
       "      <td>0.776119</td>\n",
       "      <td>0.745098</td>\n",
       "      <td>0.915254</td>\n",
       "      <td>0</td>\n",
       "    </tr>\n",
       "    <tr>\n",
       "      <th>4</th>\n",
       "      <td>0.338983</td>\n",
       "      <td>0.434850</td>\n",
       "      <td>0.527027</td>\n",
       "      <td>0.261905</td>\n",
       "      <td>0.523649</td>\n",
       "      <td>0.642857</td>\n",
       "      <td>0.000000</td>\n",
       "      <td>0.558824</td>\n",
       "      <td>0.791667</td>\n",
       "      <td>0.722222</td>\n",
       "      <td>0.686567</td>\n",
       "      <td>0.686275</td>\n",
       "      <td>0.796610</td>\n",
       "      <td>1</td>\n",
       "    </tr>\n",
       "    <tr>\n",
       "      <th>...</th>\n",
       "      <td>...</td>\n",
       "      <td>...</td>\n",
       "      <td>...</td>\n",
       "      <td>...</td>\n",
       "      <td>...</td>\n",
       "      <td>...</td>\n",
       "      <td>...</td>\n",
       "      <td>...</td>\n",
       "      <td>...</td>\n",
       "      <td>...</td>\n",
       "      <td>...</td>\n",
       "      <td>...</td>\n",
       "      <td>...</td>\n",
       "      <td>...</td>\n",
       "    </tr>\n",
       "    <tr>\n",
       "      <th>5373</th>\n",
       "      <td>0.389831</td>\n",
       "      <td>0.481275</td>\n",
       "      <td>0.391892</td>\n",
       "      <td>0.452381</td>\n",
       "      <td>0.361486</td>\n",
       "      <td>0.619048</td>\n",
       "      <td>0.333333</td>\n",
       "      <td>0.691176</td>\n",
       "      <td>0.694444</td>\n",
       "      <td>0.694444</td>\n",
       "      <td>0.686567</td>\n",
       "      <td>0.549020</td>\n",
       "      <td>0.610169</td>\n",
       "      <td>2</td>\n",
       "    </tr>\n",
       "    <tr>\n",
       "      <th>5374</th>\n",
       "      <td>0.254237</td>\n",
       "      <td>0.246982</td>\n",
       "      <td>0.108108</td>\n",
       "      <td>0.214286</td>\n",
       "      <td>0.250000</td>\n",
       "      <td>0.428571</td>\n",
       "      <td>0.333333</td>\n",
       "      <td>0.588235</td>\n",
       "      <td>0.513889</td>\n",
       "      <td>0.541667</td>\n",
       "      <td>0.477612</td>\n",
       "      <td>0.392157</td>\n",
       "      <td>0.508475</td>\n",
       "      <td>2</td>\n",
       "    </tr>\n",
       "    <tr>\n",
       "      <th>5375</th>\n",
       "      <td>0.118644</td>\n",
       "      <td>0.213247</td>\n",
       "      <td>0.229730</td>\n",
       "      <td>0.119048</td>\n",
       "      <td>0.209459</td>\n",
       "      <td>0.476190</td>\n",
       "      <td>0.000000</td>\n",
       "      <td>0.338235</td>\n",
       "      <td>0.652778</td>\n",
       "      <td>0.541667</td>\n",
       "      <td>0.507463</td>\n",
       "      <td>0.450980</td>\n",
       "      <td>0.610169</td>\n",
       "      <td>2</td>\n",
       "    </tr>\n",
       "    <tr>\n",
       "      <th>5376</th>\n",
       "      <td>0.169492</td>\n",
       "      <td>0.193439</td>\n",
       "      <td>0.162162</td>\n",
       "      <td>0.309524</td>\n",
       "      <td>0.148649</td>\n",
       "      <td>0.595238</td>\n",
       "      <td>0.333333</td>\n",
       "      <td>0.764706</td>\n",
       "      <td>0.638889</td>\n",
       "      <td>0.597222</td>\n",
       "      <td>0.656716</td>\n",
       "      <td>0.490196</td>\n",
       "      <td>0.627119</td>\n",
       "      <td>2</td>\n",
       "    </tr>\n",
       "    <tr>\n",
       "      <th>5377</th>\n",
       "      <td>0.576271</td>\n",
       "      <td>0.628288</td>\n",
       "      <td>0.229730</td>\n",
       "      <td>0.476190</td>\n",
       "      <td>0.385135</td>\n",
       "      <td>0.547619</td>\n",
       "      <td>1.000000</td>\n",
       "      <td>0.750000</td>\n",
       "      <td>0.472222</td>\n",
       "      <td>0.791667</td>\n",
       "      <td>0.731343</td>\n",
       "      <td>0.509804</td>\n",
       "      <td>0.542373</td>\n",
       "      <td>2</td>\n",
       "    </tr>\n",
       "  </tbody>\n",
       "</table>\n",
       "<p>5378 rows × 14 columns</p>\n",
       "</div>"
      ],
      "text/plain": [
       "           App      Mins       SpG      KeyP    Rating  Overall rating  \\\n",
       "0     0.745763  0.716806  0.527027  0.404762  0.540541        0.809524   \n",
       "1     0.457627  0.479418  0.527027  0.428571  0.530405        0.761905   \n",
       "2     0.508475  0.516249  0.378378  0.690476  0.527027        0.809524   \n",
       "3     0.830508  0.796657  0.567568  0.476190  0.527027        0.809524   \n",
       "4     0.338983  0.434850  0.527027  0.261905  0.523649        0.642857   \n",
       "...        ...       ...       ...       ...       ...             ...   \n",
       "5373  0.389831  0.481275  0.391892  0.452381  0.361486        0.619048   \n",
       "5374  0.254237  0.246982  0.108108  0.214286  0.250000        0.428571   \n",
       "5375  0.118644  0.213247  0.229730  0.119048  0.209459        0.476190   \n",
       "5376  0.169492  0.193439  0.162162  0.309524  0.148649        0.595238   \n",
       "5377  0.576271  0.628288  0.229730  0.476190  0.385135        0.547619   \n",
       "\n",
       "            BP  CROSSING  FINISHING  ACCELERATION  SPRINT SPEED  REACTIONS  \\\n",
       "0     0.000000  0.735294   0.916667      0.833333      0.791045   0.921569   \n",
       "1     0.333333  0.838235   0.888889      0.750000      0.716418   0.803922   \n",
       "2     0.333333  0.838235   0.805556      0.680556      0.641791   0.843137   \n",
       "3     0.000000  0.764706   0.916667      0.777778      0.776119   0.745098   \n",
       "4     0.000000  0.558824   0.791667      0.722222      0.686567   0.686275   \n",
       "...        ...       ...        ...           ...           ...        ...   \n",
       "5373  0.333333  0.691176   0.694444      0.694444      0.686567   0.549020   \n",
       "5374  0.333333  0.588235   0.513889      0.541667      0.477612   0.392157   \n",
       "5375  0.000000  0.338235   0.652778      0.541667      0.507463   0.450980   \n",
       "5376  0.333333  0.764706   0.638889      0.597222      0.656716   0.490196   \n",
       "5377  1.000000  0.750000   0.472222      0.791667      0.731343   0.509804   \n",
       "\n",
       "      POSITIONING  CLASS  \n",
       "0        0.915254      0  \n",
       "1        0.881356      0  \n",
       "2        0.898305      1  \n",
       "3        0.915254      0  \n",
       "4        0.796610      1  \n",
       "...           ...    ...  \n",
       "5373     0.610169      2  \n",
       "5374     0.508475      2  \n",
       "5375     0.610169      2  \n",
       "5376     0.627119      2  \n",
       "5377     0.542373      2  \n",
       "\n",
       "[5378 rows x 14 columns]"
      ]
     },
     "execution_count": 41,
     "metadata": {},
     "output_type": "execute_result"
    }
   ],
   "source": [
    "cancer"
   ]
  },
  {
   "cell_type": "code",
   "execution_count": 42,
   "metadata": {},
   "outputs": [
    {
     "name": "stderr",
     "output_type": "stream",
     "text": [
      "C:\\Users\\user\\anaconda3\\envs\\tensorflow\\lib\\site-packages\\seaborn\\distributions.py:2557: FutureWarning: `distplot` is a deprecated function and will be removed in a future version. Please adapt your code to use either `displot` (a figure-level function with similar flexibility) or `histplot` (an axes-level function for histograms).\n",
      "  warnings.warn(msg, FutureWarning)\n"
     ]
    },
    {
     "data": {
      "text/plain": [
       "<AxesSubplot:xlabel='CLASS', ylabel='Density'>"
      ]
     },
     "execution_count": 42,
     "metadata": {},
     "output_type": "execute_result"
    },
    {
     "data": {
      "image/png": "[encoded data removed]",
      "text/plain": [
       "<Figure size 432x288 with 1 Axes>"
      ]
     },
     "metadata": {
      "needs_background": "light"
     },
     "output_type": "display_data"
    }
   ],
   "source": [
    "sns.distplot(cancer['CLASS'])"
   ]
  },
  {
   "cell_type": "code",
   "execution_count": 44,
   "metadata": {},
   "outputs": [],
   "source": [
    "x=cancer.iloc[:,0:13]\n",
    "y=cancer.iloc[:,13]"
   ]
  },
  {
   "cell_type": "code",
   "execution_count": 45,
   "metadata": {},
   "outputs": [],
   "source": [
    "from sklearn.model_selection import train_test_split\n",
    "X_train,X_test,y_train,y_test=train_test_split(x,y,test_size=0.2,random_state=0)"
   ]
  },
  {
   "cell_type": "code",
   "execution_count": 46,
   "metadata": {},
   "outputs": [],
   "source": [
    "from imblearn.over_sampling import SMOTE\n",
    "oversample = SMOTE(random_state=42)\n",
    "X_r,y_r=oversample.fit_resample(X_train,y_train)"
   ]
  },
  {
   "cell_type": "code",
   "execution_count": 66,
   "metadata": {},
   "outputs": [],
   "source": [
    "from sklearn.ensemble import VotingClassifier\n",
    "ens = VotingClassifier( estimators= [('log',log),('Random',Random)], voting = 'hard')"
   ]
  },
  {
   "cell_type": "code",
   "execution_count": 67,
   "metadata": {},
   "outputs": [],
   "source": [
    "import matplotlib.pyplot as plt\n",
    "from sklearn.metrics import confusion_matrix\n",
    "from sklearn import metrics\n",
    "import numpy as np\n",
    "import itertools"
   ]
  },
  {
   "cell_type": "code",
   "execution_count": 68,
   "metadata": {},
   "outputs": [],
   "source": [
    "def plot_confusion_matrix(cm, classes,\n",
    "                          normalize=False,\n",
    "                          title='Confusion matrix',\n",
    "                          cmap=plt.cm.Blues):\n",
    "    \"\"\"\n",
    "    See full source and example: \n",
    "    http://scikit-learn.org/stable/auto_examples/model_selection/plot_confusion_matrix.html\n",
    "    \n",
    "    This function prints and plots the confusion matrix.\n",
    "    Normalization can be applied by setting `normalize=True`.\n",
    "    \"\"\"\n",
    "    plt.imshow(cm, interpolation='nearest', cmap=cmap)\n",
    "    plt.title(title)\n",
    "    plt.colorbar()\n",
    "    tick_marks = np.arange(len(classes))\n",
    "    plt.xticks(tick_marks, classes, rotation=45)\n",
    "    plt.yticks(tick_marks, classes)\n",
    "\n",
    "    if normalize:\n",
    "        cm = cm.astype('float') / cm.sum(axis=1)[:, np.newaxis]\n",
    "        print(\"Normalized confusion matrix\")\n",
    "    else:\n",
    "        print('Confusion matrix, without normalization')\n",
    "\n",
    "    thresh = cm.max() / 2.\n",
    "    for i, j in itertools.product(range(cm.shape[0]), range(cm.shape[1])):\n",
    "        plt.text(j, i, cm[i, j],\n",
    "                 horizontalalignment=\"center\",\n",
    "                 color=\"white\" if cm[i, j] > thresh else \"black\")\n",
    "\n",
    "    plt.tight_layout()\n",
    "    plt.ylabel('True label')\n",
    "    plt.xlabel('Predicted label')"
   ]
  },
  {
   "cell_type": "code",
   "execution_count": 69,
   "metadata": {},
   "outputs": [
    {
     "name": "stderr",
     "output_type": "stream",
     "text": [
      "C:\\Users\\user\\anaconda3\\envs\\tensorflow\\lib\\site-packages\\sklearn\\linear_model\\_logistic.py:1320: UserWarning: Setting penalty='none' will ignore the C and l1_ratio parameters\n",
      "  warnings.warn(\n"
     ]
    },
    {
     "name": "stdout",
     "output_type": "stream",
     "text": [
      "Accuracy of Ensemble Algorithm using  Voting classifier on training set: 0.92\n",
      "Accuracy of Ensemble Algorithm using  Voting classifier on test set: 0.83\n",
      "accuracy:   0.829\n",
      "Confusion matrix, without normalization\n"
     ]
    },
    {
     "data": {
      "image/png": "[encoded data removed]",
      "text/plain": [
       "<Figure size 432x288 with 2 Axes>"
      ]
     },
     "metadata": {
      "needs_background": "light"
     },
     "output_type": "display_data"
    }
   ],
   "source": [
    "ens=ens.fit(X_r, y_r)\n",
    "pred = ens.predict(X_test)\n",
    "score = metrics.accuracy_score(y_test, pred)\n",
    "print('Accuracy of Ensemble Algorithm using  Voting classifier on training set: {:.2f}'\n",
    "     .format(ens.score(X_r, y_r)))\n",
    "print('Accuracy of Ensemble Algorithm using  Voting classifier on test set: {:.2f}'\n",
    "     .format(ens.score(X_test, y_test)))\n",
    "print(\"accuracy:   %0.3f\" % score)\n",
    "cm = metrics.confusion_matrix(y_test, pred)\n",
    "plot_confusion_matrix(cm, classes=['0', '1','2'])"
   ]
  },
  {
   "cell_type": "code",
   "execution_count": 71,
   "metadata": {},
   "outputs": [
    {
     "name": "stdout",
     "output_type": "stream",
     "text": [
      "              precision    recall  f1-score   support\n",
      "\n",
      "           0       0.56      0.84      0.67        62\n",
      "           1       0.62      0.76      0.69       260\n",
      "           2       0.96      0.85      0.90       754\n",
      "\n",
      "    accuracy                           0.83      1076\n",
      "   macro avg       0.72      0.82      0.75      1076\n",
      "weighted avg       0.86      0.83      0.84      1076\n",
      "\n"
     ]
    }
   ],
   "source": [
    "print(classification_report(y_test, pred))"
   ]
  },
  {
   "cell_type": "code",
   "execution_count": null,
   "metadata": {},
   "outputs": [],
   "source": []
  },
  {
   "cell_type": "code",
   "execution_count": null,
   "metadata": {},
   "outputs": [],
   "source": []
  }
 ],
 "metadata": {
  "kernelspec": {
   "display_name": "Python 3",
   "language": "python",
   "name": "python3"
  },
  "language_info": {
   "codemirror_mode": {
    "name": "ipython",
    "version": 3
   },
   "file_extension": ".py",
   "mimetype": "text/x-python",
   "name": "python",
   "nbconvert_exporter": "python",
   "pygments_lexer": "ipython3",
   "version": "3.8.5"
  }
 },
 "nbformat": 4,
 "nbformat_minor": 4
}
