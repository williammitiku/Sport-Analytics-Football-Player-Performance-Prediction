{
 "cells": [
  {
   "cell_type": "code",
   "execution_count": 1,
   "metadata": {},
   "outputs": [],
   "source": [
    "import requests\n",
    "from bs4 import BeautifulSoup\n",
    "import pandas as pd"
   ]
  },
  {
   "cell_type": "code",
   "execution_count": 2,
   "metadata": {},
   "outputs": [],
   "source": [
    "offensive=open('C:/Users/matt/Desktop/fana/offenssive1.html','r',encoding='utf-8')\n",
    "l_file=offensive.read()"
   ]
  },
  {
   "cell_type": "code",
   "execution_count": 3,
   "metadata": {},
   "outputs": [],
   "source": [
    "soup= BeautifulSoup(l_file, 'html.parser')"
   ]
  },
  {
   "cell_type": "code",
   "execution_count": 5,
   "metadata": {
    "scrolled": false
   },
   "outputs": [],
   "source": [
    "#print(soup)"
   ]
  },
  {
   "cell_type": "code",
   "execution_count": 6,
   "metadata": {},
   "outputs": [],
   "source": [
    "columns=['Player','Player','Apps','Mins','Goals','Assists','Yel','Red','SpG','PS%','AerielsWon','MotM','Rating']\n",
    "df = pd.DataFrame(columns= columns)"
   ]
  },
  {
   "cell_type": "code",
   "execution_count": 8,
   "metadata": {},
   "outputs": [
    {
     "name": "stdout",
     "output_type": "stream",
     "text": [
      "<tbody id=\"player-table-statistics-body\"><tr class=\"\"><td class=\"col12-lg-2 col12-m-3 col12-s-4 col12-xs-5 grid-abs overflow-text\"><a class=\"player-link\" href=\"/Players/3281/Show/Zlatan-Ibrahimovic\"><div class=\"table-ranking\">\t1</div><span class=\"iconize iconize-icon-left\">Zlatan Ibrahimovic<span class=\"ui-icon country flg-se\"></span></span></a><a class=\"player-meta-data\" href=\"/Teams/80/Show/Italy-AC-Milan\"><span class=\"team-name\">AC Milan, </span></a><span><span class=\"player-meta-data\" style=\"padding-left: 3px;\">39</span><span class=\"player-meta-data\">,  FW  </span></span></td><td class=\"grid-ghost-cell\"><a class=\"player-link iconize iconize-icon-left\" href=\"/Players/3281/Show/Zlatan-Ibrahimovic\">Zlatan Ibrahimovic<span class=\"ui-icon country flg-se\"></span> </a><a class=\"player-meta-data\" href=\"/Teams/80/Show/Italy-AC-Milan\"><span class=\"team-name\">AC Milan, </span></a><span class=\"player-meta-data\">39</span><span class=\"player-meta-data\">,  FW  </span></td> <td>6</td><td class=\"minsPlayed\">529\t</td><td class=\"goal\">10\t</td><td class=\"assistTotal\">1\t</td><td class=\"yellowCard\">2\t</td><td class=\"redCard\">-\t</td><td class=\"shotsPerGame\">5.8\t</td><td class=\"passSuccess\">70.4\t</td><td class=\"aerialWonPerGame\">6.8\t</td><td class=\"manOfTheMatch\">5\t</td><td class=\"rating sorted\">8.41</td> </tr><tr class=\"alt\"><td class=\"col12-lg-2 col12-m-3 col12-s-4 col12-xs-5 grid-abs overflow-text\"><a class=\"player-link\" href=\"/Players/300713/Show/Kylian-Mbappé\"><div class=\"table-ranking\">\t2</div><span class=\"iconize iconize-icon-left\">Kylian Mbappé<span class=\"ui-icon country flg-fr\"></span></span></a><a class=\"player-meta-data\" href=\"/Teams/304/Show/France-PSG\"><span class=\"team-name\">PSG, </span></a><span><span class=\"player-meta-data\" style=\"padding-left: 3px;\">21</span><span class=\"player-meta-data\">,  AM(LR),FW  </span></span></td><td class=\"grid-ghost-cell\"><a class=\"player-link iconize iconize-icon-left\" href=\"/Players/300713/Show/Kylian-Mbappé\">Kylian Mbappé<span class=\"ui-icon country flg-fr\"></span> </a><a class=\"player-meta-data\" href=\"/Teams/304/Show/France-PSG\"><span class=\"team-name\">PSG, </span></a><span class=\"player-meta-data\">21</span><span class=\"player-meta-data\">,  AM(LR),FW  </span></td> <td>7(2)</td><td class=\"minsPlayed\">606\t</td><td class=\"goal\">10\t</td><td class=\"assistTotal\">4\t</td><td class=\"yellowCard\">-\t</td><td class=\"redCard\">-\t</td><td class=\"shotsPerGame\">3.8\t</td><td class=\"passSuccess\">81.5\t</td><td class=\"aerialWonPerGame\">0.2\t</td><td class=\"manOfTheMatch\">1\t</td><td class=\"rating sorted\">8.28</td> </tr><tr class=\"\"><td class=\"col12-lg-2 col12-m-3 col12-s-4 col12-xs-5 grid-abs overflow-text\"><a class=\"player-link\" href=\"/Players/113069/Show/Jack-Grealish\"><div class=\"table-ranking\">\t3</div><span class=\"iconize iconize-icon-left\">Jack Grealish<span class=\"ui-icon country flg-gb-eng\"></span></span></a><a class=\"player-meta-data\" href=\"/Teams/24/Show/England-Aston-Villa\"><span class=\"team-name\">Aston Villa, </span></a><span><span class=\"player-meta-data\" style=\"padding-left: 3px;\">25</span><span class=\"player-meta-data\">,  AM(CL)  </span></span></td><td class=\"grid-ghost-cell\"><a class=\"player-link iconize iconize-icon-left\" href=\"/Players/113069/Show/Jack-Grealish\">Jack Grealish<span class=\"ui-icon country flg-gb-eng\"></span> </a><a class=\"player-meta-data\" href=\"/Teams/24/Show/England-Aston-Villa\"><span class=\"team-name\">Aston Villa, </span></a><span class=\"player-meta-data\">25</span><span class=\"player-meta-data\">,  AM(CL)  </span></td> <td>9</td><td class=\"minsPlayed\">810\t</td><td class=\"goal\">5\t</td><td class=\"assistTotal\">5\t</td><td class=\"yellowCard\">2\t</td><td class=\"redCard\">-\t</td><td class=\"shotsPerGame\">2.9\t</td><td class=\"passSuccess\">81.4\t</td><td class=\"aerialWonPerGame\">1.3\t</td><td class=\"manOfTheMatch\">3\t</td><td class=\"rating sorted\">8.11</td> </tr><tr class=\"alt\"><td class=\"col12-lg-2 col12-m-3 col12-s-4 col12-xs-5 grid-abs overflow-text\"><a class=\"player-link\" href=\"/Players/29400/Show/Robert-Lewandowski\"><div class=\"table-ranking\">\t4</div><span class=\"iconize iconize-icon-left\">Robert Lewandowski<span class=\"ui-icon country flg-pl\"></span></span></a><a class=\"player-meta-data\" href=\"/Teams/37/Show/Germany-Bayern\"><span class=\"team-name\">Bayern, </span></a><span><span class=\"player-meta-data\" style=\"padding-left: 3px;\">32</span><span class=\"player-meta-data\">,  FW  </span></span></td><td class=\"grid-ghost-cell\"><a class=\"player-link iconize iconize-icon-left\" href=\"/Players/29400/Show/Robert-Lewandowski\">Robert Lewandowski<span class=\"ui-icon country flg-pl\"></span> </a><a class=\"player-meta-data\" href=\"/Teams/37/Show/Germany-Bayern\"><span class=\"team-name\">Bayern, </span></a><span class=\"player-meta-data\">32</span><span class=\"player-meta-data\">,  FW  </span></td> <td>8(1)</td><td class=\"minsPlayed\">727\t</td><td class=\"goal\">12\t</td><td class=\"assistTotal\">4\t</td><td class=\"yellowCard\">2\t</td><td class=\"redCard\">-\t</td><td class=\"shotsPerGame\">4.1\t</td><td class=\"passSuccess\">77.7\t</td><td class=\"aerialWonPerGame\">1.7\t</td><td class=\"manOfTheMatch\">3\t</td><td class=\"rating sorted\">8.08</td> </tr><tr class=\"\"><td class=\"col12-lg-2 col12-m-3 col12-s-4 col12-xs-5 grid-abs overflow-text\"><a class=\"player-link\" href=\"/Players/83532/Show/Harry-Kane\"><div class=\"table-ranking\">\t5</div><span class=\"iconize iconize-icon-left\">Harry Kane<span class=\"ui-icon country flg-gb-eng\"></span></span></a><a class=\"player-meta-data\" href=\"/Teams/30/Show/England-Tottenham\"><span class=\"team-name\">Tottenham, </span></a><span><span class=\"player-meta-data\" style=\"padding-left: 3px;\">27</span><span class=\"player-meta-data\">,  AM(C),FW  </span></span></td><td class=\"grid-ghost-cell\"><a class=\"player-link iconize iconize-icon-left\" href=\"/Players/83532/Show/Harry-Kane\">Harry Kane<span class=\"ui-icon country flg-gb-eng\"></span> </a><a class=\"player-meta-data\" href=\"/Teams/30/Show/England-Tottenham\"><span class=\"team-name\">Tottenham, </span></a><span class=\"player-meta-data\">27</span><span class=\"player-meta-data\">,  AM(C),FW  </span></td> <td>11</td><td class=\"minsPlayed\">984\t</td><td class=\"goal\">8\t</td><td class=\"assistTotal\">10\t</td><td class=\"yellowCard\">1\t</td><td class=\"redCard\">-\t</td><td class=\"shotsPerGame\">3.7\t</td><td class=\"passSuccess\">70.9\t</td><td class=\"aerialWonPerGame\">2.3\t</td><td class=\"manOfTheMatch\">6\t</td><td class=\"rating sorted\">8.07</td> </tr><tr class=\"alt\"><td class=\"col12-lg-2 col12-m-3 col12-s-4 col12-xs-5 grid-abs overflow-text\"><a class=\"player-link\" href=\"/Players/11119/Show/Lionel-Messi\"><div class=\"table-ranking\">\t6</div><span class=\"iconize iconize-icon-left\">Lionel Messi<span class=\"ui-icon country flg-ar\"></span></span></a><a class=\"player-meta-data\" href=\"/Teams/65/Show/Spain-Barcelona\"><span class=\"team-name\">Barcelona, </span></a><span><span class=\"player-meta-data\" style=\"padding-left: 3px;\">33</span><span class=\"player-meta-data\">,  AM(CR),FW  </span></span></td><td class=\"grid-ghost-cell\"><a class=\"player-link iconize iconize-icon-left\" href=\"/Players/11119/Show/Lionel-Messi\">Lionel Messi<span class=\"ui-icon country flg-ar\"></span> </a><a class=\"player-meta-data\" href=\"/Teams/65/Show/Spain-Barcelona\"><span class=\"team-name\">Barcelona, </span></a><span class=\"player-meta-data\">33</span><span class=\"player-meta-data\">,  AM(CR),FW  </span></td> <td>9(1)</td><td class=\"minsPlayed\">855\t</td><td class=\"goal\">4\t</td><td class=\"assistTotal\">-\t</td><td class=\"yellowCard\">3\t</td><td class=\"redCard\">-\t</td><td class=\"shotsPerGame\">4.9\t</td><td class=\"passSuccess\">84.9\t</td><td class=\"aerialWonPerGame\">0.3\t</td><td class=\"manOfTheMatch\">4\t</td><td class=\"rating sorted\">7.93</td> </tr><tr class=\"\"><td class=\"col12-lg-2 col12-m-3 col12-s-4 col12-xs-5 grid-abs overflow-text\"><a class=\"player-link\" href=\"/Players/50835/Show/Neymar\"><div class=\"table-ranking\">\t7</div><span class=\"iconize iconize-icon-left\">Neymar<span class=\"ui-icon country flg-br\"></span></span></a><a class=\"player-meta-data\" href=\"/Teams/304/Show/France-PSG\"><span class=\"team-name\">PSG, </span></a><span><span class=\"player-meta-data\" style=\"padding-left: 3px;\">28</span><span class=\"player-meta-data\">,  AM(CLR),FW  </span></span></td><td class=\"grid-ghost-cell\"><a class=\"player-link iconize iconize-icon-left\" href=\"/Players/50835/Show/Neymar\">Neymar<span class=\"ui-icon country flg-br\"></span> </a><a class=\"player-meta-data\" href=\"/Teams/304/Show/France-PSG\"><span class=\"team-name\">PSG, </span></a><span class=\"player-meta-data\">28</span><span class=\"player-meta-data\">,  AM(CLR),FW  </span></td> <td>5(1)</td><td class=\"minsPlayed\">481\t</td><td class=\"goal\">3\t</td><td class=\"assistTotal\">3\t</td><td class=\"yellowCard\">1\t</td><td class=\"redCard\">1\t</td><td class=\"shotsPerGame\">4.7\t</td><td class=\"passSuccess\">80.8\t</td><td class=\"aerialWonPerGame\">0.3\t</td><td class=\"manOfTheMatch\">2\t</td><td class=\"rating sorted\">7.93</td> </tr><tr class=\"alt\"><td class=\"col12-lg-2 col12-m-3 col12-s-4 col12-xs-5 grid-abs overflow-text\"><a class=\"player-link\" href=\"/Players/5583/Show/Cristiano-Ronaldo\"><div class=\"table-ranking\">\t8</div><span class=\"iconize iconize-icon-left\">Cristiano Ronaldo<span class=\"ui-icon country flg-pt\"></span></span></a><a class=\"player-meta-data\" href=\"/Teams/87/Show/Italy-Juventus\"><span class=\"team-name\">Juventus, </span></a><span><span class=\"player-meta-data\" style=\"padding-left: 3px;\">35</span><span class=\"player-meta-data\">,  M(L),FW  </span></span></td><td class=\"grid-ghost-cell\"><a class=\"player-link iconize iconize-icon-left\" href=\"/Players/5583/Show/Cristiano-Ronaldo\">Cristiano Ronaldo<span class=\"ui-icon country flg-pt\"></span> </a><a class=\"player-meta-data\" href=\"/Teams/87/Show/Italy-Juventus\"><span class=\"team-name\">Juventus, </span></a><span class=\"player-meta-data\">35</span><span class=\"player-meta-data\">,  M(L),FW  </span></td> <td>5(1)</td><td class=\"minsPlayed\">470\t</td><td class=\"goal\">8\t</td><td class=\"assistTotal\">1\t</td><td class=\"yellowCard\">-\t</td><td class=\"redCard\">-\t</td><td class=\"shotsPerGame\">4.8\t</td><td class=\"passSuccess\">82.6\t</td><td class=\"aerialWonPerGame\">0.7\t</td><td class=\"manOfTheMatch\">1\t</td><td class=\"rating sorted\">7.91</td> </tr><tr class=\"\"><td class=\"col12-lg-2 col12-m-3 col12-s-4 col12-xs-5 grid-abs overflow-text\"><a class=\"player-link\" href=\"/Players/315227/Show/Erling-Haaland\"><div class=\"table-ranking\">\t9</div><span class=\"iconize iconize-icon-left\">Erling Haaland<span class=\"ui-icon country flg-no\"></span></span></a><a class=\"player-meta-data\" href=\"/Teams/44/Show/Germany-Borussia-Dortmund\"><span class=\"team-name\">Borussia Dortmund, </span></a><span><span class=\"player-meta-data\" style=\"padding-left: 3px;\">20</span><span class=\"player-meta-data\">,  FW  </span></span></td><td class=\"grid-ghost-cell\"><a class=\"player-link iconize iconize-icon-left\" href=\"/Players/315227/Show/Erling-Haaland\">Erling Haaland<span class=\"ui-icon country flg-no\"></span> </a><a class=\"player-meta-data\" href=\"/Teams/44/Show/Germany-Borussia-Dortmund\"><span class=\"team-name\">Borussia Dortmund, </span></a><span class=\"player-meta-data\">20</span><span class=\"player-meta-data\">,  FW  </span></td> <td>7(1)</td><td class=\"minsPlayed\">651\t</td><td class=\"goal\">10\t</td><td class=\"assistTotal\">2\t</td><td class=\"yellowCard\">1\t</td><td class=\"redCard\">-\t</td><td class=\"shotsPerGame\">3.8\t</td><td class=\"passSuccess\">74.1\t</td><td class=\"aerialWonPerGame\">1\t</td><td class=\"manOfTheMatch\">2\t</td><td class=\"rating sorted\">7.83</td> </tr><tr class=\"alt\"><td class=\"col12-lg-2 col12-m-3 col12-s-4 col12-xs-5 grid-abs overflow-text\"><a class=\"player-link\" href=\"/Players/75217/Show/Andrej-Kramaric\"><div class=\"table-ranking\">\t10</div><span class=\"iconize iconize-icon-left\">Andrej Kramaric<span class=\"ui-icon country flg-hr\"></span></span></a><a class=\"player-meta-data\" href=\"/Teams/1211/Show/Germany-Hoffenheim\"><span class=\"team-name\">Hoffenheim, </span></a><span><span class=\"player-meta-data\" style=\"padding-left: 3px;\">29</span><span class=\"player-meta-data\">,  AM(CLR),FW  </span></span></td><td class=\"grid-ghost-cell\"><a class=\"player-link iconize iconize-icon-left\" href=\"/Players/75217/Show/Andrej-Kramaric\">Andrej Kramaric<span class=\"ui-icon country flg-hr\"></span> </a><a class=\"player-meta-data\" href=\"/Teams/1211/Show/Germany-Hoffenheim\"><span class=\"team-name\">Hoffenheim, </span></a><span class=\"player-meta-data\">29</span><span class=\"player-meta-data\">,  AM(CLR),FW  </span></td> <td>6</td><td class=\"minsPlayed\">540\t</td><td class=\"goal\">7\t</td><td class=\"assistTotal\">2\t</td><td class=\"yellowCard\">1\t</td><td class=\"redCard\">-\t</td><td class=\"shotsPerGame\">4.2\t</td><td class=\"passSuccess\">82.8\t</td><td class=\"aerialWonPerGame\">0.7\t</td><td class=\"manOfTheMatch\">2\t</td><td class=\"rating sorted\">7.79</td> </tr></tbody>\n"
     ]
    }
   ],
   "source": [
    "table = soup.find('table', attrs={'class':'grid with-centered-columns hover','id':'top-player-stats-summary-grid'}).tbody\n",
    "print(table)"
   ]
  },
  {
   "cell_type": "code",
   "execution_count": 10,
   "metadata": {},
   "outputs": [],
   "source": [
    "trs = table.find_all('tr')\n",
    "for tr in trs:\n",
    "    tds = tr.find_all('td')\n",
    "    row = [td.text.replace('\\n','')for td in tds]\n",
    "    df = df.append(pd.Series(row, index=columns), ignore_index=True)\n",
    "df.to_csv('Top Offensive Player.csv', index=False)"
   ]
  },
  {
   "cell_type": "code",
   "execution_count": null,
   "metadata": {},
   "outputs": [],
   "source": []
  }
 ],
 "metadata": {
  "kernelspec": {
   "display_name": "Python 3",
   "language": "python",
   "name": "python3"
  },
  "language_info": {
   "codemirror_mode": {
    "name": "ipython",
    "version": 3
   },
   "file_extension": ".py",
   "mimetype": "text/x-python",
   "name": "python",
   "nbconvert_exporter": "python",
   "pygments_lexer": "ipython3",
   "version": "3.8.5"
  }
 },
 "nbformat": 4,
 "nbformat_minor": 2
}
