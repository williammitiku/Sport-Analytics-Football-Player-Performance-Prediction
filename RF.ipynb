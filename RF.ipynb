{
 "cells": [
  {
   "cell_type": "code",
   "execution_count": 2,
   "metadata": {},
   "outputs": [],
   "source": [
    "import pandas as pd\n",
    "import numpy as np\n",
    "import matplotlib.pylab as plt\n",
    "import seaborn as sns\n",
    "from sklearn import datasets,metrics\n",
    "from sklearn.model_selection import train_test_split\n",
    "from sklearn.preprocessing import StandardScaler\n",
    "from imblearn.over_sampling import SMOTE\n",
    "import keras\n",
    "import pandas as pd\n",
    "import matplotlib.pyplot as plt\n",
    "from keras.utils import to_categorical\n",
    "from sklearn.metrics import accuracy_score\n",
    "from sklearn.metrics import classification_report\n",
    "from sklearn.ensemble import RandomForestClassifier\n",
    "from sklearn.linear_model import LogisticRegression\n",
    "from sklearn.model_selection import train_test_split\n",
    "from keras.utils import to_categorical\n",
    "import matplotlib.pyplot as plt\n",
    "from sklearn.metrics import confusion_matrix\n",
    "from sklearn import metrics\n",
    "import numpy as np\n",
    "import itertools\n",
    "from sklearn.model_selection import RepeatedStratifiedKFold\n",
    "from sklearn.model_selection import cross_val_score\n",
    "# evaluate random forest algorithm for classification\n",
    "from numpy import mean\n",
    "from numpy import std\n",
    "from sklearn.model_selection import RandomizedSearchCV\n",
    "from pprint import pprint"
   ]
  },
  {
   "cell_type": "code",
   "execution_count": 3,
   "metadata": {},
   "outputs": [],
   "source": [
    "cancer=pd.read_csv('DomainCorrect.csv')"
   ]
  },
  {
   "cell_type": "code",
   "execution_count": 4,
   "metadata": {},
   "outputs": [
    {
     "data": {
      "text/html": [
       "<div>\n",
       "<style scoped>\n",
       "    .dataframe tbody tr th:only-of-type {\n",
       "        vertical-align: middle;\n",
       "    }\n",
       "\n",
       "    .dataframe tbody tr th {\n",
       "        vertical-align: top;\n",
       "    }\n",
       "\n",
       "    .dataframe thead th {\n",
       "        text-align: right;\n",
       "    }\n",
       "</style>\n",
       "<table border=\"1\" class=\"dataframe\">\n",
       "  <thead>\n",
       "    <tr style=\"text-align: right;\">\n",
       "      <th></th>\n",
       "      <th>App</th>\n",
       "      <th>Mins</th>\n",
       "      <th>SpG</th>\n",
       "      <th>KeyP</th>\n",
       "      <th>Rating</th>\n",
       "      <th>Overall rating</th>\n",
       "      <th>BP</th>\n",
       "      <th>CROSSING</th>\n",
       "      <th>FINISHING</th>\n",
       "      <th>ACCELERATION</th>\n",
       "      <th>SPRINT SPEED</th>\n",
       "      <th>REACTIONS</th>\n",
       "      <th>POSITIONING</th>\n",
       "      <th>CLASS</th>\n",
       "    </tr>\n",
       "  </thead>\n",
       "  <tbody>\n",
       "    <tr>\n",
       "      <th>0</th>\n",
       "      <td>0.745763</td>\n",
       "      <td>0.716806</td>\n",
       "      <td>0.527027</td>\n",
       "      <td>0.404762</td>\n",
       "      <td>0.540541</td>\n",
       "      <td>0.809524</td>\n",
       "      <td>0.000000</td>\n",
       "      <td>0.735294</td>\n",
       "      <td>0.916667</td>\n",
       "      <td>0.833333</td>\n",
       "      <td>0.791045</td>\n",
       "      <td>0.921569</td>\n",
       "      <td>0.915254</td>\n",
       "      <td>0</td>\n",
       "    </tr>\n",
       "    <tr>\n",
       "      <th>1</th>\n",
       "      <td>0.457627</td>\n",
       "      <td>0.479418</td>\n",
       "      <td>0.527027</td>\n",
       "      <td>0.428571</td>\n",
       "      <td>0.530405</td>\n",
       "      <td>0.761905</td>\n",
       "      <td>0.333333</td>\n",
       "      <td>0.838235</td>\n",
       "      <td>0.888889</td>\n",
       "      <td>0.750000</td>\n",
       "      <td>0.716418</td>\n",
       "      <td>0.803922</td>\n",
       "      <td>0.881356</td>\n",
       "      <td>0</td>\n",
       "    </tr>\n",
       "    <tr>\n",
       "      <th>2</th>\n",
       "      <td>0.508475</td>\n",
       "      <td>0.516249</td>\n",
       "      <td>0.378378</td>\n",
       "      <td>0.690476</td>\n",
       "      <td>0.527027</td>\n",
       "      <td>0.809524</td>\n",
       "      <td>0.333333</td>\n",
       "      <td>0.838235</td>\n",
       "      <td>0.805556</td>\n",
       "      <td>0.680556</td>\n",
       "      <td>0.641791</td>\n",
       "      <td>0.843137</td>\n",
       "      <td>0.898305</td>\n",
       "      <td>1</td>\n",
       "    </tr>\n",
       "    <tr>\n",
       "      <th>3</th>\n",
       "      <td>0.830508</td>\n",
       "      <td>0.796657</td>\n",
       "      <td>0.567568</td>\n",
       "      <td>0.476190</td>\n",
       "      <td>0.527027</td>\n",
       "      <td>0.809524</td>\n",
       "      <td>0.000000</td>\n",
       "      <td>0.764706</td>\n",
       "      <td>0.916667</td>\n",
       "      <td>0.777778</td>\n",
       "      <td>0.776119</td>\n",
       "      <td>0.745098</td>\n",
       "      <td>0.915254</td>\n",
       "      <td>0</td>\n",
       "    </tr>\n",
       "    <tr>\n",
       "      <th>4</th>\n",
       "      <td>0.338983</td>\n",
       "      <td>0.434850</td>\n",
       "      <td>0.527027</td>\n",
       "      <td>0.261905</td>\n",
       "      <td>0.523649</td>\n",
       "      <td>0.642857</td>\n",
       "      <td>0.000000</td>\n",
       "      <td>0.558824</td>\n",
       "      <td>0.791667</td>\n",
       "      <td>0.722222</td>\n",
       "      <td>0.686567</td>\n",
       "      <td>0.686275</td>\n",
       "      <td>0.796610</td>\n",
       "      <td>1</td>\n",
       "    </tr>\n",
       "    <tr>\n",
       "      <th>...</th>\n",
       "      <td>...</td>\n",
       "      <td>...</td>\n",
       "      <td>...</td>\n",
       "      <td>...</td>\n",
       "      <td>...</td>\n",
       "      <td>...</td>\n",
       "      <td>...</td>\n",
       "      <td>...</td>\n",
       "      <td>...</td>\n",
       "      <td>...</td>\n",
       "      <td>...</td>\n",
       "      <td>...</td>\n",
       "      <td>...</td>\n",
       "      <td>...</td>\n",
       "    </tr>\n",
       "    <tr>\n",
       "      <th>5373</th>\n",
       "      <td>0.389831</td>\n",
       "      <td>0.481275</td>\n",
       "      <td>0.391892</td>\n",
       "      <td>0.452381</td>\n",
       "      <td>0.361486</td>\n",
       "      <td>0.619048</td>\n",
       "      <td>0.333333</td>\n",
       "      <td>0.691176</td>\n",
       "      <td>0.694444</td>\n",
       "      <td>0.694444</td>\n",
       "      <td>0.686567</td>\n",
       "      <td>0.549020</td>\n",
       "      <td>0.610169</td>\n",
       "      <td>2</td>\n",
       "    </tr>\n",
       "    <tr>\n",
       "      <th>5374</th>\n",
       "      <td>0.254237</td>\n",
       "      <td>0.246982</td>\n",
       "      <td>0.108108</td>\n",
       "      <td>0.214286</td>\n",
       "      <td>0.250000</td>\n",
       "      <td>0.428571</td>\n",
       "      <td>0.333333</td>\n",
       "      <td>0.588235</td>\n",
       "      <td>0.513889</td>\n",
       "      <td>0.541667</td>\n",
       "      <td>0.477612</td>\n",
       "      <td>0.392157</td>\n",
       "      <td>0.508475</td>\n",
       "      <td>2</td>\n",
       "    </tr>\n",
       "    <tr>\n",
       "      <th>5375</th>\n",
       "      <td>0.118644</td>\n",
       "      <td>0.213247</td>\n",
       "      <td>0.229730</td>\n",
       "      <td>0.119048</td>\n",
       "      <td>0.209459</td>\n",
       "      <td>0.476190</td>\n",
       "      <td>0.000000</td>\n",
       "      <td>0.338235</td>\n",
       "      <td>0.652778</td>\n",
       "      <td>0.541667</td>\n",
       "      <td>0.507463</td>\n",
       "      <td>0.450980</td>\n",
       "      <td>0.610169</td>\n",
       "      <td>2</td>\n",
       "    </tr>\n",
       "    <tr>\n",
       "      <th>5376</th>\n",
       "      <td>0.169492</td>\n",
       "      <td>0.193439</td>\n",
       "      <td>0.162162</td>\n",
       "      <td>0.309524</td>\n",
       "      <td>0.148649</td>\n",
       "      <td>0.595238</td>\n",
       "      <td>0.333333</td>\n",
       "      <td>0.764706</td>\n",
       "      <td>0.638889</td>\n",
       "      <td>0.597222</td>\n",
       "      <td>0.656716</td>\n",
       "      <td>0.490196</td>\n",
       "      <td>0.627119</td>\n",
       "      <td>2</td>\n",
       "    </tr>\n",
       "    <tr>\n",
       "      <th>5377</th>\n",
       "      <td>0.576271</td>\n",
       "      <td>0.628288</td>\n",
       "      <td>0.229730</td>\n",
       "      <td>0.476190</td>\n",
       "      <td>0.385135</td>\n",
       "      <td>0.547619</td>\n",
       "      <td>1.000000</td>\n",
       "      <td>0.750000</td>\n",
       "      <td>0.472222</td>\n",
       "      <td>0.791667</td>\n",
       "      <td>0.731343</td>\n",
       "      <td>0.509804</td>\n",
       "      <td>0.542373</td>\n",
       "      <td>2</td>\n",
       "    </tr>\n",
       "  </tbody>\n",
       "</table>\n",
       "<p>5378 rows × 14 columns</p>\n",
       "</div>"
      ],
      "text/plain": [
       "           App      Mins       SpG      KeyP    Rating  Overall rating  \\\n",
       "0     0.745763  0.716806  0.527027  0.404762  0.540541        0.809524   \n",
       "1     0.457627  0.479418  0.527027  0.428571  0.530405        0.761905   \n",
       "2     0.508475  0.516249  0.378378  0.690476  0.527027        0.809524   \n",
       "3     0.830508  0.796657  0.567568  0.476190  0.527027        0.809524   \n",
       "4     0.338983  0.434850  0.527027  0.261905  0.523649        0.642857   \n",
       "...        ...       ...       ...       ...       ...             ...   \n",
       "5373  0.389831  0.481275  0.391892  0.452381  0.361486        0.619048   \n",
       "5374  0.254237  0.246982  0.108108  0.214286  0.250000        0.428571   \n",
       "5375  0.118644  0.213247  0.229730  0.119048  0.209459        0.476190   \n",
       "5376  0.169492  0.193439  0.162162  0.309524  0.148649        0.595238   \n",
       "5377  0.576271  0.628288  0.229730  0.476190  0.385135        0.547619   \n",
       "\n",
       "            BP  CROSSING  FINISHING  ACCELERATION  SPRINT SPEED  REACTIONS  \\\n",
       "0     0.000000  0.735294   0.916667      0.833333      0.791045   0.921569   \n",
       "1     0.333333  0.838235   0.888889      0.750000      0.716418   0.803922   \n",
       "2     0.333333  0.838235   0.805556      0.680556      0.641791   0.843137   \n",
       "3     0.000000  0.764706   0.916667      0.777778      0.776119   0.745098   \n",
       "4     0.000000  0.558824   0.791667      0.722222      0.686567   0.686275   \n",
       "...        ...       ...        ...           ...           ...        ...   \n",
       "5373  0.333333  0.691176   0.694444      0.694444      0.686567   0.549020   \n",
       "5374  0.333333  0.588235   0.513889      0.541667      0.477612   0.392157   \n",
       "5375  0.000000  0.338235   0.652778      0.541667      0.507463   0.450980   \n",
       "5376  0.333333  0.764706   0.638889      0.597222      0.656716   0.490196   \n",
       "5377  1.000000  0.750000   0.472222      0.791667      0.731343   0.509804   \n",
       "\n",
       "      POSITIONING  CLASS  \n",
       "0        0.915254      0  \n",
       "1        0.881356      0  \n",
       "2        0.898305      1  \n",
       "3        0.915254      0  \n",
       "4        0.796610      1  \n",
       "...           ...    ...  \n",
       "5373     0.610169      2  \n",
       "5374     0.508475      2  \n",
       "5375     0.610169      2  \n",
       "5376     0.627119      2  \n",
       "5377     0.542373      2  \n",
       "\n",
       "[5378 rows x 14 columns]"
      ]
     },
     "execution_count": 4,
     "metadata": {},
     "output_type": "execute_result"
    }
   ],
   "source": [
    "cancer"
   ]
  },
  {
   "cell_type": "code",
   "execution_count": 5,
   "metadata": {},
   "outputs": [],
   "source": [
    "x=cancer.iloc[:,0:13]\n",
    "y=cancer.iloc[:,13]"
   ]
  },
  {
   "cell_type": "code",
   "execution_count": 8,
   "metadata": {},
   "outputs": [],
   "source": [
    "from sklearn.model_selection import train_test_split\n",
    "X_train,X_test,y_train,y_test=train_test_split(x,y,test_size=0.2,random_state=0)"
   ]
  },
  {
   "cell_type": "code",
   "execution_count": 9,
   "metadata": {},
   "outputs": [
    {
     "data": {
      "text/html": [
       "<div>\n",
       "<style scoped>\n",
       "    .dataframe tbody tr th:only-of-type {\n",
       "        vertical-align: middle;\n",
       "    }\n",
       "\n",
       "    .dataframe tbody tr th {\n",
       "        vertical-align: top;\n",
       "    }\n",
       "\n",
       "    .dataframe thead th {\n",
       "        text-align: right;\n",
       "    }\n",
       "</style>\n",
       "<table border=\"1\" class=\"dataframe\">\n",
       "  <thead>\n",
       "    <tr style=\"text-align: right;\">\n",
       "      <th></th>\n",
       "      <th>App</th>\n",
       "      <th>Mins</th>\n",
       "      <th>SpG</th>\n",
       "      <th>KeyP</th>\n",
       "      <th>Rating</th>\n",
       "      <th>Overall rating</th>\n",
       "      <th>BP</th>\n",
       "      <th>CROSSING</th>\n",
       "      <th>FINISHING</th>\n",
       "      <th>ACCELERATION</th>\n",
       "      <th>SPRINT SPEED</th>\n",
       "      <th>REACTIONS</th>\n",
       "      <th>POSITIONING</th>\n",
       "    </tr>\n",
       "  </thead>\n",
       "  <tbody>\n",
       "    <tr>\n",
       "      <th>2899</th>\n",
       "      <td>0.711864</td>\n",
       "      <td>0.647478</td>\n",
       "      <td>0.297297</td>\n",
       "      <td>0.428571</td>\n",
       "      <td>0.347973</td>\n",
       "      <td>0.690476</td>\n",
       "      <td>0.333333</td>\n",
       "      <td>0.735294</td>\n",
       "      <td>0.638889</td>\n",
       "      <td>0.805556</td>\n",
       "      <td>0.791045</td>\n",
       "      <td>0.647059</td>\n",
       "      <td>0.711864</td>\n",
       "    </tr>\n",
       "    <tr>\n",
       "      <th>2888</th>\n",
       "      <td>0.898305</td>\n",
       "      <td>0.878056</td>\n",
       "      <td>0.648649</td>\n",
       "      <td>0.285714</td>\n",
       "      <td>0.628378</td>\n",
       "      <td>0.738095</td>\n",
       "      <td>0.000000</td>\n",
       "      <td>0.544118</td>\n",
       "      <td>0.847222</td>\n",
       "      <td>0.597222</td>\n",
       "      <td>0.522388</td>\n",
       "      <td>0.686275</td>\n",
       "      <td>0.898305</td>\n",
       "    </tr>\n",
       "    <tr>\n",
       "      <th>4765</th>\n",
       "      <td>0.491525</td>\n",
       "      <td>0.503250</td>\n",
       "      <td>0.067568</td>\n",
       "      <td>0.309524</td>\n",
       "      <td>0.381757</td>\n",
       "      <td>0.642857</td>\n",
       "      <td>1.000000</td>\n",
       "      <td>0.823529</td>\n",
       "      <td>0.458333</td>\n",
       "      <td>0.875000</td>\n",
       "      <td>0.865672</td>\n",
       "      <td>0.647059</td>\n",
       "      <td>0.677966</td>\n",
       "    </tr>\n",
       "    <tr>\n",
       "      <th>4717</th>\n",
       "      <td>0.186441</td>\n",
       "      <td>0.207057</td>\n",
       "      <td>0.108108</td>\n",
       "      <td>0.119048</td>\n",
       "      <td>0.094595</td>\n",
       "      <td>0.428571</td>\n",
       "      <td>1.000000</td>\n",
       "      <td>0.705882</td>\n",
       "      <td>0.444444</td>\n",
       "      <td>0.750000</td>\n",
       "      <td>0.731343</td>\n",
       "      <td>0.333333</td>\n",
       "      <td>0.525424</td>\n",
       "    </tr>\n",
       "    <tr>\n",
       "      <th>4091</th>\n",
       "      <td>0.711864</td>\n",
       "      <td>0.599195</td>\n",
       "      <td>0.324324</td>\n",
       "      <td>0.214286</td>\n",
       "      <td>0.226351</td>\n",
       "      <td>0.547619</td>\n",
       "      <td>0.000000</td>\n",
       "      <td>0.470588</td>\n",
       "      <td>0.736111</td>\n",
       "      <td>0.875000</td>\n",
       "      <td>0.791045</td>\n",
       "      <td>0.568627</td>\n",
       "      <td>0.661017</td>\n",
       "    </tr>\n",
       "    <tr>\n",
       "      <th>...</th>\n",
       "      <td>...</td>\n",
       "      <td>...</td>\n",
       "      <td>...</td>\n",
       "      <td>...</td>\n",
       "      <td>...</td>\n",
       "      <td>...</td>\n",
       "      <td>...</td>\n",
       "      <td>...</td>\n",
       "      <td>...</td>\n",
       "      <td>...</td>\n",
       "      <td>...</td>\n",
       "      <td>...</td>\n",
       "      <td>...</td>\n",
       "    </tr>\n",
       "    <tr>\n",
       "      <th>2826</th>\n",
       "      <td>0.677966</td>\n",
       "      <td>0.466110</td>\n",
       "      <td>0.243243</td>\n",
       "      <td>0.357143</td>\n",
       "      <td>0.209459</td>\n",
       "      <td>0.595238</td>\n",
       "      <td>0.333333</td>\n",
       "      <td>0.647059</td>\n",
       "      <td>0.541667</td>\n",
       "      <td>0.736111</td>\n",
       "      <td>0.716418</td>\n",
       "      <td>0.568627</td>\n",
       "      <td>0.644068</td>\n",
       "    </tr>\n",
       "    <tr>\n",
       "      <th>639</th>\n",
       "      <td>0.711864</td>\n",
       "      <td>0.603219</td>\n",
       "      <td>0.189189</td>\n",
       "      <td>0.190476</td>\n",
       "      <td>0.256757</td>\n",
       "      <td>0.523810</td>\n",
       "      <td>0.000000</td>\n",
       "      <td>0.588235</td>\n",
       "      <td>0.736111</td>\n",
       "      <td>0.861111</td>\n",
       "      <td>0.820896</td>\n",
       "      <td>0.431373</td>\n",
       "      <td>0.677966</td>\n",
       "    </tr>\n",
       "    <tr>\n",
       "      <th>2631</th>\n",
       "      <td>0.152542</td>\n",
       "      <td>0.192510</td>\n",
       "      <td>0.216216</td>\n",
       "      <td>0.285714</td>\n",
       "      <td>0.273649</td>\n",
       "      <td>0.523810</td>\n",
       "      <td>0.000000</td>\n",
       "      <td>0.544118</td>\n",
       "      <td>0.722222</td>\n",
       "      <td>0.652778</td>\n",
       "      <td>0.567164</td>\n",
       "      <td>0.411765</td>\n",
       "      <td>0.593220</td>\n",
       "    </tr>\n",
       "    <tr>\n",
       "      <th>2953</th>\n",
       "      <td>0.525424</td>\n",
       "      <td>0.480656</td>\n",
       "      <td>0.175676</td>\n",
       "      <td>0.190476</td>\n",
       "      <td>0.216216</td>\n",
       "      <td>0.595238</td>\n",
       "      <td>1.000000</td>\n",
       "      <td>0.764706</td>\n",
       "      <td>0.666667</td>\n",
       "      <td>0.722222</td>\n",
       "      <td>0.701493</td>\n",
       "      <td>0.607843</td>\n",
       "      <td>0.661017</td>\n",
       "    </tr>\n",
       "    <tr>\n",
       "      <th>1804</th>\n",
       "      <td>0.830508</td>\n",
       "      <td>0.786753</td>\n",
       "      <td>0.135135</td>\n",
       "      <td>0.261905</td>\n",
       "      <td>0.442568</td>\n",
       "      <td>0.666667</td>\n",
       "      <td>1.000000</td>\n",
       "      <td>0.794118</td>\n",
       "      <td>0.638889</td>\n",
       "      <td>0.833333</td>\n",
       "      <td>0.761194</td>\n",
       "      <td>0.627451</td>\n",
       "      <td>0.711864</td>\n",
       "    </tr>\n",
       "  </tbody>\n",
       "</table>\n",
       "<p>1076 rows × 13 columns</p>\n",
       "</div>"
      ],
      "text/plain": [
       "           App      Mins       SpG      KeyP    Rating  Overall rating  \\\n",
       "2899  0.711864  0.647478  0.297297  0.428571  0.347973        0.690476   \n",
       "2888  0.898305  0.878056  0.648649  0.285714  0.628378        0.738095   \n",
       "4765  0.491525  0.503250  0.067568  0.309524  0.381757        0.642857   \n",
       "4717  0.186441  0.207057  0.108108  0.119048  0.094595        0.428571   \n",
       "4091  0.711864  0.599195  0.324324  0.214286  0.226351        0.547619   \n",
       "...        ...       ...       ...       ...       ...             ...   \n",
       "2826  0.677966  0.466110  0.243243  0.357143  0.209459        0.595238   \n",
       "639   0.711864  0.603219  0.189189  0.190476  0.256757        0.523810   \n",
       "2631  0.152542  0.192510  0.216216  0.285714  0.273649        0.523810   \n",
       "2953  0.525424  0.480656  0.175676  0.190476  0.216216        0.595238   \n",
       "1804  0.830508  0.786753  0.135135  0.261905  0.442568        0.666667   \n",
       "\n",
       "            BP  CROSSING  FINISHING  ACCELERATION  SPRINT SPEED  REACTIONS  \\\n",
       "2899  0.333333  0.735294   0.638889      0.805556      0.791045   0.647059   \n",
       "2888  0.000000  0.544118   0.847222      0.597222      0.522388   0.686275   \n",
       "4765  1.000000  0.823529   0.458333      0.875000      0.865672   0.647059   \n",
       "4717  1.000000  0.705882   0.444444      0.750000      0.731343   0.333333   \n",
       "4091  0.000000  0.470588   0.736111      0.875000      0.791045   0.568627   \n",
       "...        ...       ...        ...           ...           ...        ...   \n",
       "2826  0.333333  0.647059   0.541667      0.736111      0.716418   0.568627   \n",
       "639   0.000000  0.588235   0.736111      0.861111      0.820896   0.431373   \n",
       "2631  0.000000  0.544118   0.722222      0.652778      0.567164   0.411765   \n",
       "2953  1.000000  0.764706   0.666667      0.722222      0.701493   0.607843   \n",
       "1804  1.000000  0.794118   0.638889      0.833333      0.761194   0.627451   \n",
       "\n",
       "      POSITIONING  \n",
       "2899     0.711864  \n",
       "2888     0.898305  \n",
       "4765     0.677966  \n",
       "4717     0.525424  \n",
       "4091     0.661017  \n",
       "...           ...  \n",
       "2826     0.644068  \n",
       "639      0.677966  \n",
       "2631     0.593220  \n",
       "2953     0.661017  \n",
       "1804     0.711864  \n",
       "\n",
       "[1076 rows x 13 columns]"
      ]
     },
     "execution_count": 9,
     "metadata": {},
     "output_type": "execute_result"
    }
   ],
   "source": [
    "X_test"
   ]
  },
  {
   "cell_type": "code",
   "execution_count": 12,
   "metadata": {},
   "outputs": [],
   "source": [
    "X_test.to_csv('C:/Users/user/Desktop/Code/xtest.csv')"
   ]
  },
  {
   "cell_type": "code",
   "execution_count": 30,
   "metadata": {},
   "outputs": [],
   "source": [
    "y_test.to_csv('ytestnew.csv')"
   ]
  },
  {
   "cell_type": "code",
   "execution_count": 14,
   "metadata": {},
   "outputs": [],
   "source": [
    "oversample = SMOTE(random_state=42)\n",
    "X_r,y_r=oversample.fit_resample(X_train,y_train)"
   ]
  },
  {
   "cell_type": "code",
   "execution_count": 15,
   "metadata": {},
   "outputs": [
    {
     "name": "stdout",
     "output_type": "stream",
     "text": [
      "class=1,n=2982,(33.33333333333333%)\n",
      "class=0,n=2982,(33.33333333333333%)\n",
      "class=2,n=2982,(33.33333333333333%)\n"
     ]
    }
   ],
   "source": [
    "from collections import Counter\n",
    "counter=Counter(y_r)\n",
    "for k,v in counter.items():\n",
    "    dist=v/len(y_r)*100\n",
    "    print(f\"class={k},n={v},({dist}%)\")"
   ]
  },
  {
   "cell_type": "code",
   "execution_count": 16,
   "metadata": {},
   "outputs": [
    {
     "name": "stdout",
     "output_type": "stream",
     "text": [
      "33.33333333333333\n"
     ]
    }
   ],
   "source": [
    "print(dist)"
   ]
  },
  {
   "cell_type": "code",
   "execution_count": 17,
   "metadata": {},
   "outputs": [],
   "source": [
    "# Number of trees in random forest\n",
    "n_estimators = [1, 21, 41, 61, 81, 101, 121, 141, 161,]\n",
    "# Number of features to consider at every split\n",
    "# Maximum number of levels in tree\n",
    "max_depth = [1, 21, 41, 61, 81, 101, 121, 141, 161, 181, 201]\n",
    "max_depth.append(None)\n",
    "# Minimum number of samples required to split a node\n",
    "min_samples_split = [2, 5, 10]\n",
    "# Minimum number of samples required at each leaf node\n",
    "min_samples_leaf = [1, 2, 4]\n"
   ]
  },
  {
   "cell_type": "code",
   "execution_count": 18,
   "metadata": {},
   "outputs": [],
   "source": [
    "random_grid = {'n_estimators': n_estimators,\n",
    "               'max_depth': max_depth\n",
    "               }\n",
    "               \n",
    "            "
   ]
  },
  {
   "cell_type": "code",
   "execution_count": 19,
   "metadata": {},
   "outputs": [
    {
     "name": "stdout",
     "output_type": "stream",
     "text": [
      "{'max_depth': [1, 21, 41, 61, 81, 101, 121, 141, 161, 181, 201, None],\n",
      " 'n_estimators': [1, 21, 41, 61, 81, 101, 121, 141, 161]}\n"
     ]
    }
   ],
   "source": [
    "pprint(random_grid)"
   ]
  },
  {
   "cell_type": "code",
   "execution_count": 20,
   "metadata": {},
   "outputs": [
    {
     "data": {
      "text/plain": [
       "RandomizedSearchCV(estimator=RandomForestClassifier(),\n",
       "                   param_distributions={'max_depth': [1, 21, 41, 61, 81, 101,\n",
       "                                                      121, 141, 161, 181, 201,\n",
       "                                                      None],\n",
       "                                        'n_estimators': [1, 21, 41, 61, 81, 101,\n",
       "                                                         121, 141, 161]})"
      ]
     },
     "execution_count": 20,
     "metadata": {},
     "output_type": "execute_result"
    }
   ],
   "source": [
    "rf = RandomForestClassifier()\n",
    "rf_r = RandomizedSearchCV(estimator = rf, param_distributions = random_grid)\n",
    "# Fit the random search model\n",
    "rf_r.fit(X_r, y_r)\n"
   ]
  },
  {
   "cell_type": "code",
   "execution_count": 16,
   "metadata": {},
   "outputs": [
    {
     "name": "stdout",
     "output_type": "stream",
     "text": [
      "RandomForestClassifier(max_depth=41, n_estimators=41)\n"
     ]
    }
   ],
   "source": [
    "print(rf_r.best_estimator_)"
   ]
  },
  {
   "cell_type": "code",
   "execution_count": 21,
   "metadata": {},
   "outputs": [],
   "source": [
    "def plot_confusion_matrix(cm, classes,\n",
    "                          normalize=False,\n",
    "                          title='Confusion matrix',\n",
    "                          cmap=plt.cm.Blues):\n",
    "    \"\"\"\n",
    "    See full source and example: \n",
    "    http://scikit-learn.org/stable/auto_examples/model_selection/plot_confusion_matrix.html\n",
    "    \n",
    "    This function prints and plots the confusion matrix.\n",
    "    Normalization can be applied by setting `normalize=True`.\n",
    "    \"\"\"\n",
    "    plt.imshow(cm, interpolation='nearest', cmap=cmap)\n",
    "    plt.title(title)\n",
    "    plt.colorbar()\n",
    "    tick_marks = np.arange(len(classes))\n",
    "    plt.xticks(tick_marks, classes, rotation=45)\n",
    "    plt.yticks(tick_marks, classes)\n",
    "\n",
    "    if normalize:\n",
    "        cm = cm.astype('float') / cm.sum(axis=1)[:, np.newaxis]\n",
    "        print(\"Normalized confusion matrix\")\n",
    "    else:\n",
    "        print('Confusion matrix')\n",
    "\n",
    "    thresh = cm.max() / 2.\n",
    "    for i, j in itertools.product(range(cm.shape[0]), range(cm.shape[1])):\n",
    "        plt.text(j, i, cm[i, j],\n",
    "                 horizontalalignment=\"center\",\n",
    "                 color=\"white\" if cm[i, j] > thresh else \"black\")\n",
    "\n",
    "    plt.tight_layout()\n",
    "    plt.ylabel('True label')\n",
    "    plt.xlabel('Predicted label')"
   ]
  },
  {
   "cell_type": "code",
   "execution_count": 22,
   "metadata": {},
   "outputs": [
    {
     "name": "stdout",
     "output_type": "stream",
     "text": [
      "Accuracy of RandomForest  classifier on training set: 1.00\n",
      "Accuracy of RandomForest classifier on test set: 0.87\n",
      "accuracy:   0.874\n",
      "Confusion matrix\n"
     ]
    },
    {
     "data": {
      "image/png": "[encoded data removed]",
      "text/plain": [
       "<Figure size 432x288 with 2 Axes>"
      ]
     },
     "metadata": {
      "needs_background": "light"
     },
     "output_type": "display_data"
    }
   ],
   "source": [
    "pred = rf_r.predict(X_test)\n",
    "score = metrics.accuracy_score(y_test, pred)\n",
    "print('Accuracy of RandomForest  classifier on training set: {:.2f}'\n",
    "     .format(rf_r.score(X_r, y_r)))\n",
    "print('Accuracy of RandomForest classifier on test set: {:.2f}'\n",
    "     .format(rf_r.score(X_test, y_test)))\n",
    "print(\"accuracy:   %0.3f\" % score)\n",
    "cm = metrics.confusion_matrix(y_test, pred)\n",
    "plot_confusion_matrix(cm, classes=['0', '1','2'])"
   ]
  },
  {
   "cell_type": "code",
   "execution_count": 24,
   "metadata": {},
   "outputs": [
    {
     "name": "stdout",
     "output_type": "stream",
     "text": [
      "              precision    recall  f1-score   support\n",
      "\n",
      "           0       0.72      0.77      0.74        62\n",
      "           1       0.73      0.78      0.75       260\n",
      "           2       0.94      0.92      0.93       754\n",
      "\n",
      "    accuracy                           0.87      1076\n",
      "   macro avg       0.80      0.82      0.81      1076\n",
      "weighted avg       0.88      0.87      0.88      1076\n",
      "\n"
     ]
    }
   ],
   "source": [
    "print(classification_report(y_test, pred))"
   ]
  },
  {
   "cell_type": "code",
   "execution_count": 25,
   "metadata": {},
   "outputs": [
    {
     "name": "stdout",
     "output_type": "stream",
     "text": [
      "[1 0 2 ... 2 2 2]\n"
     ]
    }
   ],
   "source": [
    "print(pred)"
   ]
  },
  {
   "cell_type": "code",
   "execution_count": 26,
   "metadata": {},
   "outputs": [
    {
     "data": {
      "text/plain": [
       "array([1, 0, 2, ..., 2, 2, 2], dtype=int64)"
      ]
     },
     "execution_count": 26,
     "metadata": {},
     "output_type": "execute_result"
    }
   ],
   "source": [
    "pred"
   ]
  },
  {
   "cell_type": "code",
   "execution_count": 28,
   "metadata": {},
   "outputs": [],
   "source": [
    "import numpy as np\n",
    "import pandas as pd\n",
    "prediction = pd.DataFrame(pred, columns=['pred']).to_csv('prediction.csv')"
   ]
  },
  {
   "cell_type": "code",
   "execution_count": 27,
   "metadata": {},
   "outputs": [
    {
     "ename": "AttributeError",
     "evalue": "'numpy.ndarray' object has no attribute 'to_csv'",
     "output_type": "error",
     "traceback": [
      "\u001b[1;31m---------------------------------------------------------------------------\u001b[0m",
      "\u001b[1;31mAttributeError\u001b[0m                            Traceback (most recent call last)",
      "\u001b[1;32m<ipython-input-27-7eeb90a02495>\u001b[0m in \u001b[0;36m<module>\u001b[1;34m\u001b[0m\n\u001b[1;32m----> 1\u001b[1;33m \u001b[0mpred\u001b[0m\u001b[1;33m.\u001b[0m\u001b[0mto_csv\u001b[0m\u001b[1;33m(\u001b[0m\u001b[1;34m'C:/Users/user/Desktop/Code/pred.csv'\u001b[0m\u001b[1;33m)\u001b[0m\u001b[1;33m\u001b[0m\u001b[1;33m\u001b[0m\u001b[0m\n\u001b[0m",
      "\u001b[1;31mAttributeError\u001b[0m: 'numpy.ndarray' object has no attribute 'to_csv'"
     ]
    }
   ],
   "source": []
  },
  {
   "cell_type": "code",
   "execution_count": 44,
   "metadata": {},
   "outputs": [],
   "source": [
    "rff = RandomForestClassifier()"
   ]
  },
  {
   "cell_type": "code",
   "execution_count": 45,
   "metadata": {},
   "outputs": [
    {
     "data": {
      "text/plain": [
       "RandomForestClassifier()"
      ]
     },
     "execution_count": 45,
     "metadata": {},
     "output_type": "execute_result"
    }
   ],
   "source": [
    "rff.fit(X_r,y_r)"
   ]
  },
  {
   "cell_type": "code",
   "execution_count": 46,
   "metadata": {},
   "outputs": [
    {
     "name": "stdout",
     "output_type": "stream",
     "text": [
      "Accuracy of LogisticRegression  classifier on training set: 1.00\n",
      "Accuracy of LogisticRegression classifier on test set: 0.87\n",
      "accuracy:   0.868\n",
      "Confusion matrix, without normalization\n"
     ]
    },
    {
     "data": {
      "image/png": "[encoded data removed]",
      "text/plain": [
       "<Figure size 432x288 with 2 Axes>"
      ]
     },
     "metadata": {
      "needs_background": "light"
     },
     "output_type": "display_data"
    }
   ],
   "source": [
    "predi= rff.predict(X_test)\n",
    "score = metrics.accuracy_score(y_test, predi)\n",
    "print('Accuracy of LogisticRegression  classifier on training set: {:.2f}'\n",
    "     .format(rff.score(X_r, y_r)))\n",
    "print('Accuracy of LogisticRegression classifier on test set: {:.2f}'\n",
    "     .format(rff.score(X_test, y_test)))\n",
    "print(\"accuracy:   %0.3f\" % score)\n",
    "cm = metrics.confusion_matrix(y_test, predi)\n",
    "plot_confusion_matrix(cm, classes=['0', '1','2'])"
   ]
  },
  {
   "cell_type": "code",
   "execution_count": 47,
   "metadata": {},
   "outputs": [
    {
     "name": "stdout",
     "output_type": "stream",
     "text": [
      "              precision    recall  f1-score   support\n",
      "\n",
      "           0       0.67      0.76      0.71        62\n",
      "           1       0.72      0.76      0.74       260\n",
      "           2       0.94      0.92      0.93       754\n",
      "\n",
      "    accuracy                           0.87      1076\n",
      "   macro avg       0.78      0.81      0.79      1076\n",
      "weighted avg       0.87      0.87      0.87      1076\n",
      "\n"
     ]
    }
   ],
   "source": [
    "from sklearn.metrics import classification_report\n",
    "print(classification_report(y_test, predi))"
   ]
  },
  {
   "cell_type": "code",
   "execution_count": null,
   "metadata": {},
   "outputs": [],
   "source": []
  }
 ],
 "metadata": {
  "kernelspec": {
   "display_name": "Python 3",
   "language": "python",
   "name": "python3"
  },
  "language_info": {
   "codemirror_mode": {
    "name": "ipython",
    "version": 3
   },
   "file_extension": ".py",
   "mimetype": "text/x-python",
   "name": "python",
   "nbconvert_exporter": "python",
   "pygments_lexer": "ipython3",
   "version": "3.8.5"
  }
 },
 "nbformat": 4,
 "nbformat_minor": 4
}
